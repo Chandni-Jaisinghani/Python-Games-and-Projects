{
  "nbformat": 4,
  "nbformat_minor": 0,
  "metadata": {
    "colab": {
      "provenance": [],
      "collapsed_sections": []
    },
    "kernelspec": {
      "name": "python3",
      "display_name": "Python 3"
    },
    "language_info": {
      "name": "python"
    }
  },
  "cells": [
    {
      "cell_type": "code",
      "source": [
        "#install the apriori module\n",
        "!pip install apyori"
      ],
      "metadata": {
        "colab": {
          "base_uri": "https://localhost:8080/"
        },
        "id": "c0rOvAu3ZWCT",
        "outputId": "5918745c-f9fe-4650-d979-9c870180f190"
      },
      "execution_count": null,
      "outputs": [
        {
          "output_type": "stream",
          "name": "stdout",
          "text": [
            "Collecting apyori\n",
            "  Downloading apyori-1.1.2.tar.gz (8.6 kB)\n",
            "Building wheels for collected packages: apyori\n",
            "  Building wheel for apyori (setup.py) ... \u001b[?25l\u001b[?25hdone\n",
            "  Created wheel for apyori: filename=apyori-1.1.2-py3-none-any.whl size=5974 sha256=b2c734505b016a432139441ee9812b879431eb988a4bd083ab2cd4a35d97a3c7\n",
            "  Stored in directory: /root/.cache/pip/wheels/cb/f6/e1/57973c631d27efd1a2f375bd6a83b2a616c4021f24aab84080\n",
            "Successfully built apyori\n",
            "Installing collected packages: apyori\n",
            "Successfully installed apyori-1.1.2\n"
          ]
        }
      ]
    },
    {
      "cell_type": "code",
      "execution_count": null,
      "metadata": {
        "id": "TwIsw8tUXDHO"
      },
      "outputs": [],
      "source": [
        "import numpy as np\n",
        "import pandas as pd\n",
        "from apyori import apriori"
      ]
    },
    {
      "cell_type": "code",
      "source": [
        "dataset = pd.read_csv('groceries.csv', header = None)\n",
        "print(dataset)"
      ],
      "metadata": {
        "colab": {
          "base_uri": "https://localhost:8080/"
        },
        "id": "SneqgoCWaJHX",
        "outputId": "234a724e-cf59-4155-83c3-2890c2bc7e79"
      },
      "execution_count": null,
      "outputs": [
        {
          "output_type": "stream",
          "name": "stdout",
          "text": [
            "                 0                  1            2                 3   \\\n",
            "0            shrimp            almonds      avocado    vegetables mix   \n",
            "1           burgers          meatballs         eggs               NaN   \n",
            "2           chutney                NaN          NaN               NaN   \n",
            "3            turkey            avocado          NaN               NaN   \n",
            "4     mineral water               milk   energy bar  whole wheat rice   \n",
            "...             ...                ...          ...               ...   \n",
            "7496         butter         light mayo  fresh bread               NaN   \n",
            "7497        burgers  frozen vegetables         eggs      french fries   \n",
            "7498        chicken                NaN          NaN               NaN   \n",
            "7499       escalope          green tea          NaN               NaN   \n",
            "7500           eggs    frozen smoothie  yogurt cake    low fat yogurt   \n",
            "\n",
            "                4                 5     6               7             8   \\\n",
            "0     green grapes  whole weat flour  yams  cottage cheese  energy drink   \n",
            "1              NaN               NaN   NaN             NaN           NaN   \n",
            "2              NaN               NaN   NaN             NaN           NaN   \n",
            "3              NaN               NaN   NaN             NaN           NaN   \n",
            "4        green tea               NaN   NaN             NaN           NaN   \n",
            "...            ...               ...   ...             ...           ...   \n",
            "7496           NaN               NaN   NaN             NaN           NaN   \n",
            "7497     magazines         green tea   NaN             NaN           NaN   \n",
            "7498           NaN               NaN   NaN             NaN           NaN   \n",
            "7499           NaN               NaN   NaN             NaN           NaN   \n",
            "7500           NaN               NaN   NaN             NaN           NaN   \n",
            "\n",
            "                9               10         11     12     13             14  \\\n",
            "0     tomato juice  low fat yogurt  green tea  honey  salad  mineral water   \n",
            "1              NaN             NaN        NaN    NaN    NaN            NaN   \n",
            "2              NaN             NaN        NaN    NaN    NaN            NaN   \n",
            "3              NaN             NaN        NaN    NaN    NaN            NaN   \n",
            "4              NaN             NaN        NaN    NaN    NaN            NaN   \n",
            "...            ...             ...        ...    ...    ...            ...   \n",
            "7496           NaN             NaN        NaN    NaN    NaN            NaN   \n",
            "7497           NaN             NaN        NaN    NaN    NaN            NaN   \n",
            "7498           NaN             NaN        NaN    NaN    NaN            NaN   \n",
            "7499           NaN             NaN        NaN    NaN    NaN            NaN   \n",
            "7500           NaN             NaN        NaN    NaN    NaN            NaN   \n",
            "\n",
            "          15                 16               17       18         19  \n",
            "0     salmon  antioxydant juice  frozen smoothie  spinach  olive oil  \n",
            "1        NaN                NaN              NaN      NaN        NaN  \n",
            "2        NaN                NaN              NaN      NaN        NaN  \n",
            "3        NaN                NaN              NaN      NaN        NaN  \n",
            "4        NaN                NaN              NaN      NaN        NaN  \n",
            "...      ...                ...              ...      ...        ...  \n",
            "7496     NaN                NaN              NaN      NaN        NaN  \n",
            "7497     NaN                NaN              NaN      NaN        NaN  \n",
            "7498     NaN                NaN              NaN      NaN        NaN  \n",
            "7499     NaN                NaN              NaN      NaN        NaN  \n",
            "7500     NaN                NaN              NaN      NaN        NaN  \n",
            "\n",
            "[7501 rows x 20 columns]\n"
          ]
        }
      ]
    },
    {
      "cell_type": "code",
      "source": [
        "print(dataset.shape)"
      ],
      "metadata": {
        "colab": {
          "base_uri": "https://localhost:8080/"
        },
        "id": "HI_uZeufiVZN",
        "outputId": "449566da-ca19-473d-8a10-cea766ac6001"
      },
      "execution_count": null,
      "outputs": [
        {
          "output_type": "stream",
          "name": "stdout",
          "text": [
            "(7501, 20)\n"
          ]
        }
      ]
    },
    {
      "cell_type": "code",
      "source": [
        "records = []\n",
        "for i in range(0,1000):\n",
        "  records.append([str(dataset.values[i,j])for j in range (0,20)])\n",
        "\n",
        "# association_rules = apriori(records, min_support=0.007, min_confidence=0.5, min_lift=3, min_length=2)\n",
        "association_rules = apriori(records, min_support=0.02, min_confidence=0.5, min_lift=3, min_length=2)\n",
        "association_results = list(association_rules)\n",
        "\n",
        "count = len(association_results)\n",
        "\n",
        "print(len(association_results))\n",
        "print(association_results[0])"
      ],
      "metadata": {
        "colab": {
          "base_uri": "https://localhost:8080/"
        },
        "id": "n00JKpv5exwo",
        "outputId": "164ade82-17c7-4102-82e1-b60ee8c35c7c"
      },
      "execution_count": null,
      "outputs": [
        {
          "output_type": "stream",
          "name": "stdout",
          "text": [
            "2\n",
            "RelationRecord(items=frozenset({'shrimp', 'pasta'}), support=0.021, ordered_statistics=[OrderedStatistic(items_base=frozenset({'pasta'}), items_add=frozenset({'shrimp'}), confidence=0.8076923076923078, lift=9.731232622798888)])\n"
          ]
        }
      ]
    }
  ]
}